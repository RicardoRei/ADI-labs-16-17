{
 "cells": [
  {
   "cell_type": "markdown",
   "metadata": {},
   "source": [
    "# Learning and Decision Making"
   ]
  },
  {
   "cell_type": "markdown",
   "metadata": {},
   "source": [
    "## Laboratory 2: Markov chains\n",
    "\n",
    "In the end of the lab, you should submit all code/answers written in the tasks marked as \"Activity n. XXX\", together with the corresponding outputs and any replies to specific questions posed to the e-mail <adi.tecnico@gmail.com>. Make sure that the subject is of the form [&lt;group n.&gt;] LAB &lt;lab n.&gt;.\n",
    "\n",
    "### 1. Modeling\n",
    "\n",
    "Consider once again the simplified Monopoly game described in the Homework and for which you wrote a Markov chain model:\n",
    "\n",
    "<img src=\"monopoly.png\" width=\"300px\">\n",
    "\n",
    "Recall that your chain should describe a single player, where: \n",
    "\n",
    "* The player rolls a single die in each play; \n",
    "* The jail does not prevent the player from continuing to play. In other words, when landing on the “GO TO JAIL” cell, the player jumps back to the “JAIL” cell, but resumes play immediately."
   ]
  },
  {
   "cell_type": "markdown",
   "metadata": {},
   "source": [
    "---\n",
    "\n",
    "#### Activity 1.        \n",
    "\n",
    "Implement your Markov chain model in Python. In particular,\n",
    "\n",
    "* Create a list with all the states;\n",
    "* Define a `numpy` array with the corresponding transition probabilities.\n",
    "\n",
    "The order for the states used in the transition probability matrix should match that in the list of states. \n",
    "\n",
    "**Note 1**: Don't forget to import numpy.\n",
    "\n",
    "**Note 2**: Make sure to print the result in the end.\n",
    "\n",
    "---"
   ]
  },
  {
   "cell_type": "code",
   "execution_count": 4,
   "metadata": {
    "collapsed": true
   },
   "outputs": [],
   "source": [
    "import numpy as np\n",
    "\n",
    "\"\"\" \n",
    "Board Postion, state translation:\n",
    "\n",
    "Go = 0\n",
    "Vermont Avenue = 1\n",
    "Jail = 2\n",
    "Virginia Avenue = 3\n",
    "Free Parking = 4\n",
    "Marvin Gardens = 5\n",
    "Go to Jail = 6\n",
    "Pennsylvania Avenue = 7\n",
    "\n",
    "\"\"\"\n",
    "\n",
    "\n",
    "# List with all states\n",
    "X = [ 0, 1, 2, 3, 4, 5, 6, 7 ]\n",
    "\n",
    "# Transition probability matrix                       states\n",
    "P = np.array([[0.0, 1/6, 1/6, 1/6, 1/6, 1/6, 1/6, 0.0], #0\n",
    "\t\t\t  [0.0, 0.0, 1/6, 1/6, 1/6, 1/6, 1/6, 1/6], #1\n",
    "\t\t\t  [1/6, 0.0, 0.0, 1/6, 1/6, 1/6, 1/6, 1/6], #2\n",
    "\t\t\t  [1/6, 1/6, 0.0, 0.0, 1/6, 1/6, 1/6, 1/6], #3\n",
    "\t\t\t  [1/6, 1/6, 1/6, 0.0, 0.0, 1/6, 1/6, 1/6], #4\n",
    "\t\t\t  [1/6, 1/6, 1/6, 1/6, 0.0, 0.0, 1/6, 1/6], #5\n",
    "\t\t\t  [0.0, 0.0, 1.0, 0.0, 0.0, 0.0, 0.0, 0.0], #6\n",
    "\t\t\t  [1/6, 1/6, 1/6, 1/6, 1/6, 1/6, 0.0, 0.0]]) #7\n"
   ]
  },
  {
   "cell_type": "markdown",
   "metadata": {},
   "source": [
    "---\n",
    "\n",
    "#### Activity 2.\n",
    "\n",
    "Compute the probability of the following trajectories:\n",
    "\n",
    "* \"COLLECT \\$200\" - \"VERMONT AVENUE\" - \"GO TO JAIL\" - \"JAIL\"\n",
    "* \"COLLECT \\$200\" - \"GO TO JAIL\" - \"JAIL\" - \"COLLECT \\$200\"\n",
    "* \"COLLECT \\$200\" - \"PENNSYLVANIA AVENUE\" - \"COLLECT \\$200\"\n",
    "\n",
    "**Note:** Make sure to print the result in the end.\n",
    "\n",
    "---"
   ]
  },
  {
   "cell_type": "code",
   "execution_count": 3,
   "metadata": {
    "collapsed": false
   },
   "outputs": [
    {
     "ename": "NameError",
     "evalue": "name 'np' is not defined",
     "output_type": "error",
     "traceback": [
      "\u001b[0;31m---------------------------------------------------------------------------\u001b[0m",
      "\u001b[0;31mNameError\u001b[0m                                 Traceback (most recent call last)",
      "\u001b[0;32m<ipython-input-3-94665911401e>\u001b[0m in \u001b[0;36m<module>\u001b[0;34m()\u001b[0m\n\u001b[1;32m      3\u001b[0m \u001b[0;31m#intuition: 1 * 1/6 * 1/6 * 1 = 0.027777777777777776\u001b[0m\u001b[0;34m\u001b[0m\u001b[0;34m\u001b[0m\u001b[0m\n\u001b[1;32m      4\u001b[0m \u001b[0;34m\u001b[0m\u001b[0m\n\u001b[0;32m----> 5\u001b[0;31m \u001b[0mt0\u001b[0m \u001b[0;34m=\u001b[0m \u001b[0mnp\u001b[0m\u001b[0;34m.\u001b[0m\u001b[0marray\u001b[0m\u001b[0;34m(\u001b[0m\u001b[0;34m[\u001b[0m\u001b[0;36m1\u001b[0m\u001b[0;34m,\u001b[0m \u001b[0;36m0\u001b[0m\u001b[0;34m,\u001b[0m \u001b[0;36m0\u001b[0m\u001b[0;34m,\u001b[0m \u001b[0;36m0\u001b[0m\u001b[0;34m,\u001b[0m \u001b[0;36m0\u001b[0m\u001b[0;34m,\u001b[0m \u001b[0;36m0\u001b[0m\u001b[0;34m,\u001b[0m \u001b[0;36m0\u001b[0m\u001b[0;34m,\u001b[0m \u001b[0;36m0\u001b[0m\u001b[0;34m]\u001b[0m\u001b[0;34m)\u001b[0m\u001b[0;34m\u001b[0m\u001b[0m\n\u001b[0m\u001b[1;32m      6\u001b[0m \u001b[0mt1\u001b[0m \u001b[0;34m=\u001b[0m \u001b[0mnp\u001b[0m\u001b[0;34m.\u001b[0m\u001b[0marray\u001b[0m\u001b[0;34m(\u001b[0m\u001b[0;34m[\u001b[0m\u001b[0;36m0\u001b[0m\u001b[0;34m,\u001b[0m \u001b[0;36m1\u001b[0m\u001b[0;34m,\u001b[0m \u001b[0;36m0\u001b[0m\u001b[0;34m,\u001b[0m \u001b[0;36m0\u001b[0m\u001b[0;34m,\u001b[0m \u001b[0;36m0\u001b[0m\u001b[0;34m,\u001b[0m \u001b[0;36m0\u001b[0m\u001b[0;34m,\u001b[0m \u001b[0;36m0\u001b[0m\u001b[0;34m,\u001b[0m \u001b[0;36m0\u001b[0m\u001b[0;34m]\u001b[0m\u001b[0;34m)\u001b[0m\u001b[0;34m\u001b[0m\u001b[0m\n\u001b[1;32m      7\u001b[0m \u001b[0mt2\u001b[0m \u001b[0;34m=\u001b[0m \u001b[0mnp\u001b[0m\u001b[0;34m.\u001b[0m\u001b[0marray\u001b[0m\u001b[0;34m(\u001b[0m\u001b[0;34m[\u001b[0m\u001b[0;36m0\u001b[0m\u001b[0;34m,\u001b[0m \u001b[0;36m0\u001b[0m\u001b[0;34m,\u001b[0m \u001b[0;36m0\u001b[0m\u001b[0;34m,\u001b[0m \u001b[0;36m0\u001b[0m\u001b[0;34m,\u001b[0m \u001b[0;36m0\u001b[0m\u001b[0;34m,\u001b[0m \u001b[0;36m0\u001b[0m\u001b[0;34m,\u001b[0m \u001b[0;36m1\u001b[0m\u001b[0;34m,\u001b[0m \u001b[0;36m0\u001b[0m\u001b[0;34m]\u001b[0m\u001b[0;34m)\u001b[0m\u001b[0;34m\u001b[0m\u001b[0m\n",
      "\u001b[0;31mNameError\u001b[0m: name 'np' is not defined"
     ]
    }
   ],
   "source": [
    "# Insert your code here\n",
    "\n",
    "#intuition: 1 * 1/6 * 1/6 * 1 = 0.027777777777777776\n",
    "\n",
    "t0 = np.array([1, 0, 0, 0, 0, 0, 0, 0])\n",
    "t1 = np.array([0, 1, 0, 0, 0, 0, 0, 0])\n",
    "t2 = np.array([0, 0, 0, 0, 0, 0, 1, 0])\n",
    "\n",
    "res = np.dot(t0, P)[1]\n",
    "res = np.dot(t1, P)[6] * res\n",
    "res = np.dot(t2, P)[2] * res\n",
    "print (\"for the first trajectory: \" + str(res))\n",
    "\n",
    "\n",
    "t0 = np.array([1, 0, 0, 0, 0, 0, 0, 0])\n",
    "t1 = np.array([0, 0, 0, 0, 0, 0, 1, 0])\n",
    "t2 = np.array([0, 0, 1, 0, 0, 0, 0, 0])\n",
    "\n",
    "# Intuition: 1 * 1/6 * 1 * 1/6 = 0.027777777777777776\n",
    "\n",
    "res = np.dot(t0, P)[6]       # P(x1=6 | x0 = 0)\n",
    "res = np.dot(t1, P)[2] * res # P(x2=2 | x1 = 6)\n",
    "res = np.dot(t2, P)[0] * res # P(x3=0 | x2 = 2)\n",
    "print (\"for the second trajectory: \" + str(res))\n",
    "\n",
    "# Intuition: 1 * 0 * 1 = 0\n",
    "\n",
    "t0 = np.array([1, 0, 0, 0, 0, 0, 0, 0])\n",
    "t1 = np.array([0, 0, 0, 0, 0, 0, 0, 1])\n",
    "\n",
    "res = np.dot(t0, P)[7]\n",
    "res = np.dot(t1, P)[0] * res\n",
    "\n",
    "print (\"for the third trajectory: \" + str(res))\n"
   ]
  },
  {
   "cell_type": "markdown",
   "metadata": {},
   "source": [
    "### 2. Stability"
   ]
  },
  {
   "cell_type": "markdown",
   "metadata": {},
   "source": [
    "---\n",
    "\n",
    "#### Activity 3.\n",
    "\n",
    "Justify whether the chain implemented in Activity #1 is:\n",
    "\n",
    "* Irreducible\n",
    "* Aperiodic\n",
    "* Ergodic\n",
    "\n",
    "---"
   ]
  },
  {
   "cell_type": "markdown",
   "metadata": {},
   "source": [
    "The chain is irreducible because we can reach any state, starting from every other state.\n",
    "Starting in state 3(estado X) we can return here either by 3,4,7,3 (3 jumps) or 3,5,3 (2 jumps); This means the greatest common divider is 1. Knowing this and that the chain is irreducible we can conclude it is aperiodic.\n",
    "Since the chain is irreducible and aperiodic, then it also is ergodic."
   ]
  },
  {
   "cell_type": "markdown",
   "metadata": {},
   "source": [
    "---\n",
    "\n",
    "#### Activity 4\n",
    "\n",
    "Compute the stationary distribution for the chain.\n",
    "\n",
    "**Note:** The stationary distribution is a *left* eigenvector of the transition probability matrix associated to the eigenvalue 1. As such, you may find useful the numpy function `numpy.linalg.eig`. Also, recall that the stationary distribution is *a distribution*.\n",
    "\n",
    "---"
   ]
  },
  {
   "cell_type": "code",
   "execution_count": 2,
   "metadata": {
    "collapsed": false
   },
   "outputs": [
    {
     "ename": "NameError",
     "evalue": "name 'np' is not defined",
     "output_type": "error",
     "traceback": [
      "\u001b[0;31m---------------------------------------------------------------------------\u001b[0m",
      "\u001b[0;31mNameError\u001b[0m                                 Traceback (most recent call last)",
      "\u001b[0;32m<ipython-input-2-2fac1078b098>\u001b[0m in \u001b[0;36m<module>\u001b[0;34m()\u001b[0m\n\u001b[1;32m      2\u001b[0m \u001b[0;34m\u001b[0m\u001b[0m\n\u001b[1;32m      3\u001b[0m \u001b[0;34m\u001b[0m\u001b[0m\n\u001b[0;32m----> 4\u001b[0;31m \u001b[0meigenvec1\u001b[0m \u001b[0;34m=\u001b[0m \u001b[0mnp\u001b[0m\u001b[0;34m.\u001b[0m\u001b[0mlinalg\u001b[0m\u001b[0;34m.\u001b[0m\u001b[0meig\u001b[0m\u001b[0;34m(\u001b[0m\u001b[0mP\u001b[0m\u001b[0;34m)\u001b[0m\u001b[0;34m[\u001b[0m\u001b[0;36m1\u001b[0m\u001b[0;34m]\u001b[0m\u001b[0;34m[\u001b[0m\u001b[0;36m0\u001b[0m\u001b[0;34m]\u001b[0m\u001b[0;34m\u001b[0m\u001b[0m\n\u001b[0m\u001b[1;32m      5\u001b[0m \u001b[0mprint\u001b[0m\u001b[0;34m(\u001b[0m\u001b[0meigenvec1\u001b[0m\u001b[0;34m)\u001b[0m\u001b[0;34m\u001b[0m\u001b[0m\n\u001b[1;32m      6\u001b[0m \u001b[0;34m\u001b[0m\u001b[0m\n",
      "\u001b[0;31mNameError\u001b[0m: name 'np' is not defined"
     ]
    }
   ],
   "source": [
    "# Insert your code here\n",
    "\n",
    "\n",
    "eigenvec1 = np.linalg.eig(P)[1][0]\n",
    "print(eigenvec1)\n",
    "\n",
    "norm = np.linalg.norm(eigenvec1)\n",
    "\n",
    "distribution = eigenvec1/norm\n",
    "\n",
    "\n"
   ]
  },
  {
   "cell_type": "markdown",
   "metadata": {},
   "source": [
    "### 3. Simulation\n",
    "\n",
    "You are now going to *simulate* the Markov chain that you defined in Question #1."
   ]
  },
  {
   "cell_type": "markdown",
   "metadata": {},
   "source": [
    "---\n",
    "\n",
    "#### Activity 5\n",
    "\n",
    "Generate a 10,000-step long trajectory of the chain defined in Activity #1. \n",
    "\n",
    "---"
   ]
  },
  {
   "cell_type": "code",
   "execution_count": 24,
   "metadata": {
    "collapsed": false
   },
   "outputs": [],
   "source": [
    "import random\n",
    "\n",
    "#the trajectory is a vector where the value on entry i represents tha state at time i.\n",
    "#exemple: trajectory[4] = 2 means that at time 4 the agent is in jail.\n",
    "\n",
    "trajectory = np.array([0])\n",
    "i = 1\n",
    "while (i < 10000):\n",
    "    random_index = random.randint(0, 7)\n",
    "    while (P[trajectory[i-1]][random_index] == 0.0):\n",
    "        random_index = random.randint(0, 7)\n",
    "        \n",
    "    trajectory = np.append(trajectory, [random_index])\n",
    "    i=i+1\n"
   ]
  },
  {
   "cell_type": "markdown",
   "metadata": {},
   "source": [
    "---\n",
    "\n",
    "#### Activity 6\n",
    "\n",
    "Draw a histogram of the trajectory generated in Activity #5. Compare the relative frequencies with the result of Activity #4.\n",
    "\n",
    "---"
   ]
  },
  {
   "cell_type": "code",
   "execution_count": 37,
   "metadata": {
    "collapsed": false
   },
   "outputs": [
    {
     "data": {
      "image/png": "[encoded data removed]",
      "text/plain": [
       "<matplotlib.figure.Figure at 0x114101f98>"
      ]
     },
     "metadata": {},
     "output_type": "display_data"
    },
    {
     "name": "stdout",
     "output_type": "stream",
     "text": [
      "(0.409431806164+0j)\n",
      "(0.151088018852+0.261265083187j)\n",
      "(0.151088018852-0.261265083187j)\n",
      "(-0.360429302132-0.37252135549j)\n",
      "(-0.360429302132+0.37252135549j)\n",
      "(0.285601972986+0j)\n",
      "(-0.108208451751+0.0626179708174j)\n",
      "(-0.108208451751-0.0626179708174j)\n"
     ]
    }
   ],
   "source": [
    "# Insert your code here\n",
    "import matplotlib.mlab as mlab\n",
    "import matplotlib.pyplot as plt\n",
    "\n",
    "plt.hist(trajectory, 25, normed=1, alpha=0.75)\n",
    "plt.xlabel(\"State\")\n",
    "plt.ylabel(\"Time\")\n",
    "plt.title(\"Activity 5 Trajectory Histogram\")\n",
    "plt.grid(True)\n",
    "\n",
    "plt.show()\n",
    "\n"
   ]
  },
  {
   "cell_type": "markdown",
   "metadata": {},
   "source": [
    "[Provide your answer here]"
   ]
  }
 ],
 "metadata": {
  "kernelspec": {
   "display_name": "Python 3",
   "language": "python",
   "name": "python3"
  },
  "language_info": {
   "codemirror_mode": {
    "name": "ipython",
    "version": 3
   },
   "file_extension": ".py",
   "mimetype": "text/x-python",
   "name": "python",
   "nbconvert_exporter": "python",
   "pygments_lexer": "ipython3",
   "version": "3.6.0"
  }
 },
 "nbformat": 4,
 "nbformat_minor": 0
}
