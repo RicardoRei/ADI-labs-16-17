{
 "cells": [
  {
   "cell_type": "markdown",
   "metadata": {},
   "source": [
    "# Learning and Decision Making"
   ]
  },
  {
   "cell_type": "markdown",
   "metadata": {},
   "source": [
    "## Laboratory 2: Markov chains\n",
    "\n",
    "In the end of the lab, you should submit all code/answers written in the tasks marked as \"Activity n. XXX\", together with the corresponding outputs and any replies to specific questions posed to the e-mail <adi.tecnico@gmail.com>. Make sure that the subject is of the form [&lt;group n.&gt;] LAB &lt;lab n.&gt;.\n",
    "\n",
    "### 1. Modeling\n",
    "\n",
    "Consider once again the simplified Monopoly game described in the Homework and for which you wrote a Markov chain model:\n",
    "\n",
    "<img src=\"monopoly.png\" width=\"300px\">\n",
    "\n",
    "Recall that your chain should describe a single player, where: \n",
    "\n",
    "* The player rolls a single die in each play; \n",
    "* The jail does not prevent the player from continuing to play. In other words, when landing on the “GO TO JAIL” cell, the player jumps back to the “JAIL” cell, but resumes play immediately."
   ]
  },
  {
   "cell_type": "markdown",
   "metadata": {},
   "source": [
    "---\n",
    "\n",
    "#### Activity 1.        \n",
    "\n",
    "Implement your Markov chain model in Python. In particular,\n",
    "\n",
    "* Create a list with all the states;\n",
    "* Define a `numpy` array with the corresponding transition probabilities.\n",
    "\n",
    "The order for the states used in the transition probability matrix should match that in the list of states. \n",
    "\n",
    "**Note 1**: Don't forget to import numpy.\n",
    "\n",
    "**Note 2**: Make sure to print the result in the end.\n",
    "\n",
    "---"
   ]
  },
  {
   "cell_type": "code",
   "execution_count": 2,
   "metadata": {
    "collapsed": true
   },
   "outputs": [],
   "source": [
    "import numpy as np\n",
    "\n",
    "\"\"\" \n",
    "Board Postion, state translation:\n",
    "\n",
    "Go = 0\n",
    "Vermont Avenue = 1\n",
    "Jail = 2\n",
    "Virginia Avenue = 3\n",
    "Free Parking = 4\n",
    "Marvin Gardens = 5\n",
    "Go to Jail = 6\n",
    "Pennsylvania Avenue = 7\n",
    "\n",
    "\"\"\"\n",
    "\n",
    "\n",
    "# List with all states\n",
    "X = [ 0, 1, 2, 3, 4, 5, 6, 7 ]\n",
    "\n",
    "# Transition probability matrix                       states\n",
    "P = np.array([[0.0, 1/6, 1/6, 1/6, 1/6, 1/6, 1/6, 0.0], #0\n",
    "\t\t\t  [0.0, 0.0, 1/6, 1/6, 1/6, 1/6, 1/6, 1/6], #1\n",
    "\t\t\t  [1/6, 0.0, 0.0, 1/6, 1/6, 1/6, 1/6, 1/6], #2\n",
    "\t\t\t  [1/6, 1/6, 0.0, 0.0, 1/6, 1/6, 1/6, 1/6], #3\n",
    "\t\t\t  [1/6, 1/6, 1/6, 0.0, 0.0, 1/6, 1/6, 1/6], #4\n",
    "\t\t\t  [1/6, 1/6, 1/6, 1/6, 0.0, 0.0, 1/6, 1/6], #5\n",
    "\t\t\t  [0.0, 0.0, 1.0, 0.0, 0.0, 0.0, 0.0, 0.0], #6\n",
    "\t\t\t  [1/6, 1/6, 1/6, 1/6, 1/6, 1/6, 0.0, 0.0]]) #7\n"
   ]
  },
  {
   "cell_type": "markdown",
   "metadata": {},
   "source": [
    "---\n",
    "\n",
    "#### Activity 2.\n",
    "\n",
    "Compute the probability of the following trajectories:\n",
    "\n",
    "* \"COLLECT \\$200\" - \"VERMONT AVENUE\" - \"GO TO JAIL\" - \"JAIL\"\n",
    "* \"COLLECT \\$200\" - \"GO TO JAIL\" - \"JAIL\" - \"COLLECT \\$200\"\n",
    "* \"COLLECT \\$200\" - \"PENNSYLVANIA AVENUE\" - \"COLLECT \\$200\"\n",
    "\n",
    "**Note:** Make sure to print the result in the end.\n",
    "\n",
    "---"
   ]
  },
  {
   "cell_type": "code",
   "execution_count": 3,
   "metadata": {
    "collapsed": false
   },
   "outputs": [
    {
     "name": "stdout",
     "output_type": "stream",
     "text": [
      "for the first trajectory: 0.0277777777778\n",
      "for the second trajectory: 0.0277777777778\n",
      "for the third trajectory: 0.0\n"
     ]
    }
   ],
   "source": [
    "# Insert your code here\n",
    "\n",
    "#intuition: 1 * 1/6 * 1/6 * 1 = 0.027777777777777776\n",
    "\n",
    "t0 = np.array([1, 0, 0, 0, 0, 0, 0, 0])\n",
    "t1 = np.array([0, 1, 0, 0, 0, 0, 0, 0])\n",
    "t2 = np.array([0, 0, 0, 0, 0, 0, 1, 0])\n",
    "\n",
    "res = np.dot(t0, P)[1]\n",
    "res = np.dot(t1, P)[6] * res\n",
    "res = np.dot(t2, P)[2] * res\n",
    "print (\"for the first trajectory: \" + str(res))\n",
    "\n",
    "\n",
    "t0 = np.array([1, 0, 0, 0, 0, 0, 0, 0])\n",
    "t1 = np.array([0, 0, 0, 0, 0, 0, 1, 0])\n",
    "t2 = np.array([0, 0, 1, 0, 0, 0, 0, 0])\n",
    "\n",
    "# Intuition: 1 * 1/6 * 1 * 1/6 = 0.027777777777777776\n",
    "\n",
    "res = np.dot(t0, P)[6]       # P(x1=6 | x0 = 0)\n",
    "res = np.dot(t1, P)[2] * res # P(x2=2 | x1 = 6)\n",
    "res = np.dot(t2, P)[0] * res # P(x3=0 | x2 = 2)\n",
    "print (\"for the second trajectory: \" + str(res))\n",
    "\n",
    "# Intuition: 1 * 0 * 1 = 0\n",
    "\n",
    "t0 = np.array([1, 0, 0, 0, 0, 0, 0, 0])\n",
    "t1 = np.array([0, 0, 0, 0, 0, 0, 0, 1])\n",
    "\n",
    "res = np.dot(t0, P)[7]\n",
    "res = np.dot(t1, P)[0] * res\n",
    "\n",
    "print (\"for the third trajectory: \" + str(res))\n"
   ]
  },
  {
   "cell_type": "markdown",
   "metadata": {},
   "source": [
    "### 2. Stability"
   ]
  },
  {
   "cell_type": "markdown",
   "metadata": {},
   "source": [
    "---\n",
    "\n",
    "#### Activity 3.\n",
    "\n",
    "Justify whether the chain implemented in Activity #1 is:\n",
    "\n",
    "* Irreducible\n",
    "* Aperiodic\n",
    "* Ergodic\n",
    "\n",
    "---"
   ]
  },
  {
   "cell_type": "markdown",
   "metadata": {},
   "source": [
    "1) irreducible: the MC is irreducible because we can reach any state, starting from every other state.\n",
    "\n",
    "2) aperiodic:Yes. Starting in a state X we can return to it either by 3 jumps or 2 jumps (for example for state 3 we can get back to 3 by 4, 7 , 3 (3 jumps) or 5, 3 (2 jumps)). This means the greater common divider is 1.\n",
    "\n",
    "3) Knowing 1) and 2)  we can conclude it is ergodic."
   ]
  },
  {
   "cell_type": "markdown",
   "metadata": {},
   "source": [
    "---\n",
    "\n",
    "#### Activity 4\n",
    "\n",
    "Compute the stationary distribution for the chain.\n",
    "\n",
    "**Note:** The stationary distribution is a *left* eigenvector of the transition probability matrix associated to the eigenvalue 1. As such, you may find useful the numpy function `numpy.linalg.eig`. Also, recall that the stationary distribution is *a distribution*.\n",
    "\n",
    "---"
   ]
  },
  {
   "cell_type": "code",
   "execution_count": 4,
   "metadata": {
    "collapsed": false
   },
   "outputs": [
    {
     "name": "stdout",
     "output_type": "stream",
     "text": [
      "[[ 0.11131135]\n",
      " [ 0.09350154]\n",
      " [ 0.21817025]\n",
      " [ 0.10940316]\n",
      " [ 0.1068589 ]\n",
      " [ 0.12466872]\n",
      " [ 0.12731899]\n",
      " [ 0.10876709]]\n"
     ]
    }
   ],
   "source": [
    "# Insert your code here\n",
    "import scipy.sparse.linalg as sla\n",
    "\n",
    "eval, evec = sla.eigs(P.T, k=1, which='LM')\n",
    "np.dot(evec.T, P).T\n",
    "\n",
    "u = (evec/evec.sum()).real\n",
    "\n",
    "print (u)\n",
    "\n"
   ]
  },
  {
   "cell_type": "markdown",
   "metadata": {},
   "source": [
    "### 3. Simulation\n",
    "\n",
    "You are now going to *simulate* the Markov chain that you defined in Question #1."
   ]
  },
  {
   "cell_type": "markdown",
   "metadata": {},
   "source": [
    "---\n",
    "\n",
    "#### Activity 5\n",
    "\n",
    "Generate a 10,000-step long trajectory of the chain defined in Activity #1. \n",
    "\n",
    "---"
   ]
  },
  {
   "cell_type": "code",
   "execution_count": 19,
   "metadata": {
    "collapsed": false
   },
   "outputs": [
    {
     "name": "stdout",
     "output_type": "stream",
     "text": [
      "[ 0.1131  0.0949  0.2129  0.1127  0.1026  0.1275  0.129   0.1073]\n"
     ]
    }
   ],
   "source": [
    "import random\n",
    "\n",
    "#the trajectory is a vector where the value on entry i represents tha state at time i.\n",
    "#exemple: trajectory[4] = 2 means that at time 4 the agent is in jail.\n",
    "\n",
    "trajectory = np.array([0])\n",
    "i = 1\n",
    "while (i < 10000):\n",
    "    random_index = random.randint(0, 7)\n",
    "    while (P[trajectory[i-1]][random_index] == 0.0):\n",
    "        random_index = random.randint(0, 7)\n",
    "        \n",
    "    trajectory = np.append(trajectory, [random_index])\n",
    "    i=i+1\n",
    "\n",
    "frequencies = np.array([0, 0, 0, 0, 0, 0, 0, 0])\n",
    "for i in range(0, 10000):\n",
    "    frequencies[trajectory[i]] += 1\n",
    "    \n",
    "frequencies = frequencies/frequencies.sum()\n",
    "print (frequencies)"
   ]
  },
  {
   "cell_type": "markdown",
   "metadata": {},
   "source": [
    "---\n",
    "\n",
    "#### Activity 6\n",
    "\n",
    "Draw a histogram of the trajectory generated in Activity #5. Compare the relative frequencies with the result of Activity #4.\n",
    "\n",
    "---"
   ]
  },
  {
   "cell_type": "code",
   "execution_count": 31,
   "metadata": {
    "collapsed": false
   },
   "outputs": [
    {
     "data": {
      "image/png": "[encoded data removed]",
      "text/plain": [
       "<matplotlib.figure.Figure at 0x106f1bcc0>"
      ]
     },
     "metadata": {},
     "output_type": "display_data"
    }
   ],
   "source": [
    "import pylab as plt\n",
    "\n",
    "fig, axes = plt.subplots(1, 1)\n",
    "ax = axes\n",
    "\n",
    "ax.bar(X, frequencies, align=\"center\", alpha=0.75) \n",
    "ax.set_xticks(X)\n",
    "\n",
    "plt.xlabel(\"State\")\n",
    "plt.ylabel(\"frequency\")\n",
    "plt.title(\"Activity 5 Trajectory Histogram\")\n",
    "\n",
    "plt.grid(True)\n",
    "\n",
    "plt.show()"
   ]
  },
  {
   "cell_type": "markdown",
   "metadata": {},
   "source": [
    "Comparing the results of the histogram with the stationary distribution of activity 4, we can see that the eigenvector for the eigenvalue 1, coincides with the experimental distribution obtained. Which means that we are close to the stationary distribution."
   ]
  }
 ],
 "metadata": {
  "kernelspec": {
   "display_name": "Python 3",
   "language": "python",
   "name": "python3"
  },
  "language_info": {
   "codemirror_mode": {
    "name": "ipython",
    "version": 3
   },
   "file_extension": ".py",
   "mimetype": "text/x-python",
   "name": "python",
   "nbconvert_exporter": "python",
   "pygments_lexer": "ipython3",
   "version": "3.6.0"
  }
 },
 "nbformat": 4,
 "nbformat_minor": 0
}
