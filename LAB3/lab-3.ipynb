{
 "cells": [
  {
   "cell_type": "markdown",
   "metadata": {},
   "source": [
    "# Learning and Decision Making"
   ]
  },
  {
   "cell_type": "markdown",
   "metadata": {},
   "source": [
    "## Laboratory 3: Markov decision problems\n",
    "\n",
    "In the end of the lab, you should submit all code/answers written in the tasks marked as \"Activity n. XXX\", together with the corresponding outputs and any replies to specific questions posed to the e-mail <adi.tecnico@gmail.com>. Make sure that the subject is of the form [&lt;group n.&gt;] LAB &lt;lab n.&gt;.\n",
    "\n",
    "### 1. Modeling\n",
    "\n",
    "Consider once again the predator-prey domain described in the Homework and which you described as a Markov decision process.\n",
    "\n",
    "<img src=\"toroidal-world.png\" width=\"400px\">\n",
    "\n",
    "Recall that:\n",
    "\n",
    "* toroidal world \"wraps around\", i.e., an individual exiting through any of the four sides of the grid reenters on the opposite side (see figure above).\n",
    "\n",
    "* At each time step, the hare selects uniformly at random one of the four directions (up, down, left, and right) and moves to the adjacent cell in that direction with a probability 0.4. With a probability 0.6 it remains in the same cell. \n",
    "\n",
    "* The wolf, on the other hand, can select at each time step one of five actions---up (_U_), down (_D_), left (_L_) and right (_R_) or stay (_S_). If it selects action _S_, it remains in the same cell with probability 1.0. Otherwise, the other 4 actions succeed in moving the wolf to the adjacent cell in the corresponding direction with a probability 0.8 and fail with a probability 0.2. \n",
    "\n",
    "* The goal of the wolf is to catch the hare."
   ]
  },
  {
   "cell_type": "markdown",
   "metadata": {},
   "source": [
    "---\n",
    "\n",
    "#### Activity 1.        \n",
    "\n",
    "Implement your Markov decision process in Python. In particular,\n",
    "\n",
    "* Create a list with all the states;\n",
    "* Create a list with all the actions;\n",
    "* For each action, define a `numpy` array with the corresponding transition probabilities;\n",
    "* Define a `numpy`array with the costs\n",
    "\n",
    "The order for the states and actions used in the transition probability and cost matrices should match that in the lists of states and actions. \n",
    "\n",
    "**Note 1**: Don't forget to import `numpy`.\n",
    "\n",
    "**Note 2**: You can define the transition probability matrices for each of the two individuals and then build the combined transition probability matrices using the `numpy.kron` function.\n",
    "\n",
    "---"
   ]
  },
  {
   "cell_type": "code",
   "execution_count": 334,
   "metadata": {
    "collapsed": false,
    "scrolled": false
   },
   "outputs": [],
   "source": [
    "import numpy as np\n",
    "from pandas import *\n",
    "\n",
    "X = [[0, 0], [0, 1], [0, 2], [0, 3],\n",
    "     [1, 0], [1, 1], [1, 2], [1, 3], \n",
    "     [2, 0], [2, 1], [2, 2], [2, 3], \n",
    "     [3, 0], [3, 1], [3, 2], [3, 3]]\n",
    "\n",
    "A = ['L', 'R', 'U', 'D', 'S']\n",
    "\n",
    "P_coelho = np.array([[0.6, 0.2, 0.2, 0.0], \n",
    "\t\t\t\t\t [0.2, 0.6, 0.0, 0.2], \n",
    "\t\t\t\t\t [0.2, 0.0, 0.6, 0.2], \n",
    "\t\t\t\t\t [0.0, 0.2, 0.2, 0.6]])\n",
    "\n",
    "P_lobo_rl = np.array([[0.2, 0.8, 0.0, 0.0], \n",
    "\t\t     \t\t  [0.8, 0.2, 0.0, 0.0], \n",
    "\t\t     \t\t  [0.0, 0.0, 0.2, 0.8], \n",
    "\t\t     \t\t  [0.0, 0.0, 0.8, 0.2]])\n",
    " \n",
    "P_lobo_ud = np.array([[0.2, 0.0, 0.8, 0.0], \n",
    "\t\t\t \t\t  [0.0, 0.2, 0.0, 0.8], \n",
    "\t\t     \t\t  [0.8, 0.0, 0.2, 0.0], \n",
    "\t\t     \t\t  [0.0, 0.8, 0.0, 0.2]])\n",
    "\n",
    "P_lobo_s = np.array([[1.0, 0.0, 0.0, 0.0], \n",
    "\t\t\t\t\t [0.0, 1.0, 0.0, 0.0], \n",
    "\t\t    \t\t [0.0, 0.0, 1.0, 0.0], \n",
    "\t\t    \t  \t [0.0, 0.0, 0.0, 1.0]])\n",
    "\n",
    "C = np.array([[1.0,  1.0,  1.0,   1.0,  0.0], #(0,0)\n",
    "\t\t\t  [0.0,  0.0,  1.0,   1.0,  1.0], #(0,1)\n",
    "\t\t\t  [1.0,  1.0,  0.0,   0.0,  1.0], #(0,2)\n",
    "\t\t\t  [1.0,  1.0,  1.0,   1.0,  1.0], #(0,3)\n",
    "\n",
    "\t\t\t  [0.0,  0.0,  1.0,   1.0,  1.0], #(1,0)\n",
    "\t\t\t  [1.0,  1.0,  1.0,   1.0,  0.0], #(1,1)\n",
    "\t\t\t  [1.0,  1.0,  1.0,   1.0,  1.0], #(1,2)\n",
    "\t\t\t  [1.0,  1.0,  0.0,   0.0,  1.0], #(1,3)\n",
    "\n",
    "\t\t\t  [1.0,  1.0,  0.0,   0.0,  1.0], #(2,0)\n",
    "\t\t\t  [1.0,  1.0,  1.0,   1.0,  1.0], #(2,1)\n",
    "\t\t\t  [1.0,  1.0,  1.0,   1.0,  0.0], #(2,2)\n",
    "\t\t\t  [0.0,  0.0,  1.0,   1.0,  1.0], #(2,3)\n",
    "\n",
    "\t\t\t  [1.0,  1.0,  1.0,   1.0,  1.0], #(3,0)\n",
    "\t\t \t  [1.0,  1.0,  0.0,   0.0,  1.0], #(3,1)\n",
    "\t\t\t  [0.0,  0.0,  1.0,   1.0,  1.0], #(3,2)\n",
    "\t\t\t  [1.0,  1.0,  1.0,   1.0,  0.0]])#(3,3)\n",
    "\n",
    "P_RL = np.kron(P_lobo_rl, P_coelho)\n",
    "P_UD = np.kron(P_lobo_ud, P_coelho)\n",
    "P_S = np.kron(P_lobo_s, P_coelho)\n",
    "\n",
    "mdp = {\"X\": X, \"A\": A, \"Pa's\": [P_RL, P_RL, P_UD, P_UD, P_S], \"C\":C} \n"
   ]
  },
  {
   "cell_type": "markdown",
   "metadata": {},
   "source": [
    "### 2. Prediction\n",
    "\n",
    "You are now going to evaluate a given policy, computing the corresponding cost-to-go."
   ]
  },
  {
   "cell_type": "markdown",
   "metadata": {
    "raw_mimetype": "text/latex"
   },
   "source": [
    "---\n",
    "\n",
    "#### Activity 2.\n",
    "\n",
    "Describe the policy that, in each state $(w, h)$, always moves the wolf to the cell closest to the hare. If multiple such cells exist, the wolf should select randomly between the two.\n",
    "\n",
    "For example, suppose that the wolf is in cell 1 and the hare in cell 4 (figure above, left). The wolf should then select randomly between the actions _U_, _D_ (which move the wolf to cell 3), _L_ and _R_ (which move the wolf to cell 2). Conversely, if the wolf is in cell 1 and the hare in cell 3 (figure above, right), the wolf should select randomly between the two actions _U_ and _D_ (which move the wolf to cell 3).\n",
    "\n",
    "**Note:** The policy should be described as a vector with as many rows as there are states and as many columns as there are actions, where the entry _xa_ has the probability of selecting action _a_ in state _x_.\n",
    "\n",
    "---"
   ]
  },
  {
   "cell_type": "code",
   "execution_count": 306,
   "metadata": {
    "collapsed": false
   },
   "outputs": [],
   "source": [
    "policy_smart =np.array([[0.0,  0.0,  0.0,  0.0,  1.0], # 00\n",
    "\t\t\t\t\t\t[0.5,  0.5,  0.0,  0.0,  0.0], # 01\n",
    "\t\t\t\t\t\t[0.0,  0.0,  0.5,  0.5,  0.0], # 02\n",
    "\t\t\t\t\t\t[0.25, 0.25, 0.25, 0.25, 0.0], # 03\n",
    "\n",
    "\t\t\t\t\t\t[0.5,  0.5,  0.0,  0.0,  0.0], # 10\n",
    "\t\t\t\t\t\t[0.0,  0.0,  0.0,  0.0,  1.0], # 11\n",
    "\t\t\t\t\t\t[0.25, 0.25, 0.25, 0.25, 0.0], # 12\n",
    "\t\t\t\t\t\t[0.0,  0.0,  0.5,  0.5,  0.0], # 13\n",
    "\n",
    "\t\t\t\t\t\t[0.0,  0.0,  0.5,  0.5,  0.0], # 20\n",
    "\t\t\t\t\t\t[0.25, 0.25, 0.25, 0.25, 0.0], # 21\n",
    "\t\t\t\t\t\t[0.0,  0.0,  0.0,  0.0,  1.0], # 22\n",
    "\t\t\t\t\t\t[0.5,  0.5,  0.0,  0.0,  0.0], # 23\n",
    "                        \n",
    "\t\t\t\t\t\t[0.25, 0.25, 0.25, 0.25, 0.0], # 30\n",
    "\t\t\t\t\t\t[0.0,  0.0,  0.5,  0.5,  0.0], # 31\n",
    "\t\t\t\t\t\t[0.5,  0.5,  0.0,  0.0,  0.0], # 32\n",
    "\t\t\t\t\t\t[0.0,  0.0,  0.0,  0.0,  1.0]]); # 33\n",
    "\n"
   ]
  },
  {
   "cell_type": "markdown",
   "metadata": {},
   "source": [
    "---\n",
    "\n",
    "#### Activity 3.\n",
    "\n",
    "Compute the cost-to-go function $J^\\pi$ associated with the policy from Activity 2. Use $\\gamma=0.99$.\n",
    "\n",
    "---"
   ]
  },
  {
   "cell_type": "code",
   "execution_count": 308,
   "metadata": {
    "collapsed": false
   },
   "outputs": [
    {
     "name": "stdout",
     "output_type": "stream",
     "text": [
      "         Jpi\n",
      "00  2.279619\n",
      "01  2.337185\n",
      "02  2.337185\n",
      "03  3.675743\n",
      "10  2.337185\n",
      "11  2.279619\n",
      "12  3.675743\n",
      "13  2.337185\n",
      "20  2.337185\n",
      "21  3.675743\n",
      "22  2.279619\n",
      "23  2.337185\n",
      "30  3.675743\n",
      "31  2.337185\n",
      "32  2.337185\n",
      "33  2.279619\n"
     ]
    }
   ],
   "source": [
    "#@brief:\n",
    "#   This function receives a matrix with costs and a policy and computes the costs for that policy.\n",
    "def calculate_Cpi(costs, policy):\n",
    "    cpi = np.zeros(len(policy))\n",
    "   \n",
    "    # loop over states\n",
    "    for i in range(0, len(policy)):        \n",
    "        # loop over actions to compute sum(pi(a|x) * c(a,x))\n",
    "\n",
    "        sum = 0\n",
    "        for j in range(0, len(costs[0])):\n",
    "            sum += policy[i][j]*costs[i][j]\n",
    "\n",
    "        cpi[i] = sum\n",
    "    return cpi\n",
    "\n",
    "#@brief:\n",
    "#   This function receives a dictionary that represents a MDP and a policy and computes the transiction \n",
    "# matrix for that MDP with that policy. \n",
    "def transition_Probabilities_For_Policy(MDP, policy):\n",
    "    Ppi = np.zeros((len(MDP[\"X\"]),len(MDP[\"X\"]))) # creates a matrix NxN where N is the size of X\n",
    "    \n",
    "    for i in range(0, len(MDP[\"X\"])):\n",
    "        for j in range(0, len(MDP[\"X\"])):\n",
    "            \n",
    "            # for every entry we need to loop over possible actions to compute sum(pi(a|x)*P(y|x,a))\n",
    "            sum = 0\n",
    "            for k in range(0,len(MDP[\"A\"])):\n",
    "                sum += policy[i][k] * MDP[\"Pa's\"][k][i][j]\n",
    "            \n",
    "            Ppi[i][j] = sum\n",
    "    return Ppi\n",
    "\n",
    "Cpi = calculate_Cpi(costs=C, policy=policy_smart)\n",
    "Ppi = transition_Probabilities_For_Policy(MDP=mdp, policy=policy_smart)\n",
    "\n",
    "gamma = 0.99\n",
    "Jpi = np.dot(np.linalg.inv((np.identity(16)-(gamma*Ppi))), Cpi) # [I - gama* (Ppi)^-1] *Cpi = Jpi  \n",
    "\n",
    "labels = [\"00\", \"01\", \"02\", \"03\", \"10\", \"11\", \"12\", \"13\", \"20\", \"21\", \"22\", \"23\", \"30\", \"31\", \"32\", \"33\"]\n",
    "print (DataFrame(Jpi, index=labels, columns=[\"Jpi\"]))\n"
   ]
  },
  {
   "cell_type": "markdown",
   "metadata": {},
   "source": [
    "### 3. Control\n",
    "\n",
    "In this section you are going to compare value and policy iteration, both in terms of time and number of iterations."
   ]
  },
  {
   "cell_type": "markdown",
   "metadata": {},
   "source": [
    "---\n",
    "\n",
    "#### Activity 4\n",
    "\n",
    "Show that the policy in Activity 3 is optimal: use value iteration to compute $J^*$ and show that $J^*=J^\\pi$. Track the time and the number of iterations taken to compute $J^*$.\n",
    "\n",
    "**Note 1:** Stop the algorithm when the error between iterations is smaller than $10^{-8}$.\n",
    "\n",
    "**Note 2:** You may find useful the function ``time()`` from the module ``time``.\n",
    "\n",
    "---"
   ]
  },
  {
   "cell_type": "code",
   "execution_count": 309,
   "metadata": {
    "collapsed": false,
    "scrolled": false
   },
   "outputs": [
    {
     "name": "stdout",
     "output_type": "stream",
     "text": [
      "         Jpi\n",
      "00  2.279619\n",
      "01  2.337185\n",
      "02  2.337185\n",
      "03  3.675743\n",
      "10  2.337185\n",
      "11  2.279619\n",
      "12  3.675743\n",
      "13  2.337185\n",
      "20  2.337185\n",
      "21  3.675743\n",
      "22  2.279619\n",
      "23  2.337185\n",
      "30  3.675743\n",
      "31  2.337185\n",
      "32  2.337185\n",
      "33  2.279619\n",
      "    J optimal\n",
      "00   2.279619\n",
      "01   2.337185\n",
      "02   2.337185\n",
      "03   3.675743\n",
      "10   2.337185\n",
      "11   2.279619\n",
      "12   3.675743\n",
      "13   2.337185\n",
      "20   2.337185\n",
      "21   3.675743\n",
      "22   2.279619\n",
      "23   2.337185\n",
      "30   3.675743\n",
      "31   2.337185\n",
      "32   2.337185\n",
      "33   2.279619\n"
     ]
    }
   ],
   "source": [
    "def computeJnew(Qa):\n",
    "    Jnew = np.zeros((len(Qa[0]),1))\n",
    "    for i in range(0, len(Qa[0])):\n",
    "        min = Qa[0][i]\n",
    "        for j in range(1, len(Qa)):\n",
    "            if Qa[j][i] < min:\n",
    "                min = Qa[j][i]\n",
    "        Jnew[i][0] = min\n",
    "    return Jnew\n",
    "    \n",
    "def valueIteration(MDP, tolerance, gama):\n",
    "    J = np.zeros((len(MDP[\"X\"]), 1))\n",
    "    err = 1\n",
    "    i=0\n",
    "    while err > tolerance:\n",
    "        \n",
    "        Qa = [None]*len(MDP[\"A\"]) #initialize empty list for Q values for actions a in A\n",
    "        \n",
    "        # loop over actions and compute Qa\n",
    "        for a in range(0, len(MDP[\"A\"])):\n",
    "            Qa[a] = MDP[\"C\"][:,[a]] + gama * MDP[\"Pa's\"][a].dot(J)\n",
    "        \n",
    "        Jnew = computeJnew(Qa)\n",
    "        err = np.linalg.norm(Jnew - J)\n",
    "        i += 1\n",
    "        J = Jnew    \n",
    "    return (J, i)\n",
    "\n",
    "time_before = time.time()\n",
    "J_optimal, iterations = valueIteration(MDP=mdp, tolerance=1e-8, gama=0.99)\n",
    "time_after = time.time()\n",
    "\n",
    "print (DataFrame(Jpi, index=labels, columns=[\"Jpi\"]))\n",
    "print (DataFrame(J_optimal.T[0], index=labels, columns=[\"J optimal\"]))\n",
    "\n"
   ]
  },
  {
   "cell_type": "markdown",
   "metadata": {},
   "source": [
    "---\n",
    "\n",
    "#### Activity 5\n",
    "\n",
    "Compute once again the optimal policy now using policy iteration. Track the time and number of iterations taken and compare to those of Activity 4.\n",
    "\n",
    "**Note:** If you find that numerical errors affect your computations (especially when comparing two values/arrays) you may use the `numpy` function `isclose` with adequately set absolute and relative tolerance parameters (e.g., $10^{-8}$).\n",
    "\n",
    "---"
   ]
  },
  {
   "cell_type": "code",
   "execution_count": 310,
   "metadata": {
    "collapsed": false,
    "scrolled": false
   },
   "outputs": [
    {
     "name": "stdout",
     "output_type": "stream",
     "text": [
      "[[ 0.000  0.000  0.000  0.000  1.000]\n",
      " [ 0.500  0.500  0.000  0.000  0.000]\n",
      " [ 0.000  0.000  0.500  0.500  0.000]\n",
      " [ 0.250  0.250  0.250  0.250  0.000]\n",
      " [ 0.500  0.500  0.000  0.000  0.000]\n",
      " [ 0.000  0.000  0.000  0.000  1.000]\n",
      " [ 0.250  0.250  0.250  0.250  0.000]\n",
      " [ 0.000  0.000  0.500  0.500  0.000]\n",
      " [ 0.000  0.000  0.500  0.500  0.000]\n",
      " [ 0.250  0.250  0.250  0.250  0.000]\n",
      " [ 0.000  0.000  0.000  0.000  1.000]\n",
      " [ 0.500  0.500  0.000  0.000  0.000]\n",
      " [ 0.250  0.250  0.250  0.250  0.000]\n",
      " [ 0.000  0.000  0.500  0.500  0.000]\n",
      " [ 0.500  0.500  0.000  0.000  0.000]\n",
      " [ 0.000  0.000  0.000  0.000  1.000]]\n",
      "2\n"
     ]
    }
   ],
   "source": [
    "def policyIteration(MDP):\n",
    "    pi = np.ones((len(MDP['X']), len(MDP['A']))) /2\n",
    "    quit = False\n",
    "    i = 0\n",
    "    \n",
    "    while not quit:\n",
    "        \n",
    "        #initialize cpi with first line of pi multiplyed by the costs for the first action\n",
    "        cpi = np.diag(pi[:,0]).dot(MDP[\"C\"][:,[0]])\n",
    "        ppi = np.diag(pi[:, 0]).dot(MDP[\"Pa's\"][0])\n",
    "        for a in range(1, len(MDP[\"A\"])):\n",
    "            cpi += np.diag(pi[:,a]).dot(MDP[\"C\"][:,[a]])\n",
    "            ppi += np.diag(pi[:, a]).dot(MDP[\"Pa's\"][a])\n",
    "\n",
    "        J = np.linalg.inv(np.eye(len(MDP[\"X\"])) - gamma * ppi).dot(cpi)\n",
    "        \n",
    "        Qa = [None] * len(MDP[\"A\"])\n",
    "        \n",
    "        for a in range(0, len(MDP[\"A\"])):\n",
    "            Qa[a] = MDP[\"C\"][:,[a]] + gamma * MDP[\"Pa's\"][a].dot(J)\n",
    "        \n",
    "        pinew = np.zeros((len(MDP['X']), len(MDP['A'])))\n",
    "        \n",
    "        for a in range(0, len(MDP[\"A\"])):\n",
    "            pinew[:, a, None] = np.isclose(Qa[a], np.min(Qa, axis=0), atol=1e-8, rtol=1e-8).astype(int)\n",
    "\n",
    "        pinew = pinew / np.sum(pinew, axis=1, keepdims=True)\n",
    "        quit = (pi == pinew).all()\n",
    "        pi = pinew\n",
    "        i +=1\n",
    "    return (pi, i)\n",
    "\n",
    "pi, iterations = policyIteration(MDP=MDP)\n",
    "print (pi)\n",
    "print (iterations)"
   ]
  },
  {
   "cell_type": "markdown",
   "metadata": {},
   "source": [
    "### 4. Simulation\n",
    "\n",
    "Finally, in this section you will check whether the theoretical computations of the cost-to-go actually correspond to the cost incurred by an agent following a policy."
   ]
  },
  {
   "cell_type": "markdown",
   "metadata": {},
   "source": [
    "---\n",
    "\n",
    "#### Activity 6\n",
    "\n",
    "Starting in each of the two states $x$ in the initial figure, \n",
    "\n",
    "* Generate **100** trajectories of 10,000 steps each, following the optimal policy for the MDP. \n",
    "* For each trajectory, compute the accumulated (discounted) cost. \n",
    "* Compute the average cost over the 100 trajectories.\n",
    "* Compare the resulting value with that computed in Activity 4 for the two states. \n",
    "\n",
    "** Note:** The simulation may take a bit of time, don't despair ☺️.\n",
    "\n",
    "---"
   ]
  },
  {
   "cell_type": "code",
   "execution_count": 333,
   "metadata": {
    "collapsed": false
   },
   "outputs": [
    {
     "name": "stdout",
     "output_type": "stream",
     "text": [
      "[ 0.250  0.250  0.250  0.250  0.000]\n"
     ]
    },
    {
     "name": "stderr",
     "output_type": "stream",
     "text": [
      "/Users/ricardorei/anaconda/lib/python3.6/site-packages/ipykernel/__main__.py:10: VisibleDeprecationWarning: converting an array with ndim > 0 to an index will result in an error in the future\n"
     ]
    },
    {
     "ename": "TypeError",
     "evalue": "'NoneType' object is not subscriptable",
     "output_type": "error",
     "traceback": [
      "\u001b[0;31m---------------------------------------------------------------------------\u001b[0m",
      "\u001b[0;31mTypeError\u001b[0m                                 Traceback (most recent call last)",
      "\u001b[0;32m<ipython-input-333-f7cbbfeb6f8e>\u001b[0m in \u001b[0;36m<module>\u001b[0;34m()\u001b[0m\n\u001b[1;32m     13\u001b[0m     \u001b[0;32mreturn\u001b[0m \u001b[0mtrajectory\u001b[0m\u001b[0;34m\u001b[0m\u001b[0m\n\u001b[1;32m     14\u001b[0m \u001b[0;34m\u001b[0m\u001b[0m\n\u001b[0;32m---> 15\u001b[0;31m \u001b[0mtrajectory\u001b[0m \u001b[0;34m=\u001b[0m  \u001b[0mgenerateRandomTrajectory\u001b[0m\u001b[0;34m(\u001b[0m\u001b[0mmdp\u001b[0m\u001b[0;34m,\u001b[0m \u001b[0mpi\u001b[0m\u001b[0;34m,\u001b[0m \u001b[0;36m12\u001b[0m\u001b[0;34m,\u001b[0m \u001b[0msteps\u001b[0m\u001b[0;34m=\u001b[0m\u001b[0;36m10\u001b[0m\u001b[0;34m)\u001b[0m\u001b[0;34m\u001b[0m\u001b[0m\n\u001b[0m\u001b[1;32m     16\u001b[0m \u001b[0mprint\u001b[0m \u001b[0;34m(\u001b[0m\u001b[0mtrajectory\u001b[0m\u001b[0;34m)\u001b[0m\u001b[0;34m\u001b[0m\u001b[0m\n\u001b[1;32m     17\u001b[0m \u001b[0;34m\u001b[0m\u001b[0m\n",
      "\u001b[0;32m<ipython-input-333-f7cbbfeb6f8e>\u001b[0m in \u001b[0;36mgenerateRandomTrajectory\u001b[0;34m(MDP, policy, s0, steps)\u001b[0m\n\u001b[1;32m      6\u001b[0m \u001b[0;34m\u001b[0m\u001b[0m\n\u001b[1;32m      7\u001b[0m     \u001b[0;32mfor\u001b[0m \u001b[0mi\u001b[0m \u001b[0;32min\u001b[0m \u001b[0mrange\u001b[0m\u001b[0;34m(\u001b[0m\u001b[0;36m1\u001b[0m\u001b[0;34m,\u001b[0m \u001b[0msteps\u001b[0m\u001b[0;34m)\u001b[0m\u001b[0;34m:\u001b[0m\u001b[0;34m\u001b[0m\u001b[0m\n\u001b[0;32m----> 8\u001b[0;31m         \u001b[0mprint\u001b[0m \u001b[0;34m(\u001b[0m\u001b[0mpolicy\u001b[0m\u001b[0;34m[\u001b[0m\u001b[0mtrajectory\u001b[0m\u001b[0;34m[\u001b[0m\u001b[0mi\u001b[0m\u001b[0;34m-\u001b[0m\u001b[0;36m1\u001b[0m\u001b[0;34m]\u001b[0m\u001b[0;34m[\u001b[0m\u001b[0;36m0\u001b[0m\u001b[0;34m]\u001b[0m\u001b[0;34m]\u001b[0m\u001b[0;34m)\u001b[0m\u001b[0;34m\u001b[0m\u001b[0m\n\u001b[0m\u001b[1;32m      9\u001b[0m         \u001b[0mrandom_action\u001b[0m \u001b[0;34m=\u001b[0m \u001b[0mnp\u001b[0m\u001b[0;34m.\u001b[0m\u001b[0mrandom\u001b[0m\u001b[0;34m.\u001b[0m\u001b[0mchoice\u001b[0m\u001b[0;34m(\u001b[0m\u001b[0mlen\u001b[0m\u001b[0;34m(\u001b[0m\u001b[0mMDP\u001b[0m\u001b[0;34m[\u001b[0m\u001b[0;34m'A'\u001b[0m\u001b[0;34m]\u001b[0m\u001b[0;34m)\u001b[0m\u001b[0;34m,\u001b[0m \u001b[0msize\u001b[0m\u001b[0;34m=\u001b[0m\u001b[0;36m1\u001b[0m\u001b[0;34m,\u001b[0m \u001b[0mp\u001b[0m\u001b[0;34m=\u001b[0m\u001b[0mpolicy\u001b[0m\u001b[0;34m[\u001b[0m\u001b[0mtrajectory\u001b[0m\u001b[0;34m[\u001b[0m\u001b[0mi\u001b[0m\u001b[0;34m-\u001b[0m\u001b[0;36m1\u001b[0m\u001b[0;34m]\u001b[0m\u001b[0;34m[\u001b[0m\u001b[0;36m0\u001b[0m\u001b[0;34m]\u001b[0m\u001b[0;34m]\u001b[0m\u001b[0;34m)\u001b[0m\u001b[0;34m\u001b[0m\u001b[0m\n\u001b[1;32m     10\u001b[0m         \u001b[0mpossible_state\u001b[0m \u001b[0;34m=\u001b[0m \u001b[0mnp\u001b[0m\u001b[0;34m.\u001b[0m\u001b[0mrandom\u001b[0m\u001b[0;34m.\u001b[0m\u001b[0mchoice\u001b[0m\u001b[0;34m(\u001b[0m\u001b[0mlen\u001b[0m\u001b[0;34m(\u001b[0m\u001b[0mMDP\u001b[0m\u001b[0;34m[\u001b[0m\u001b[0;34m'X'\u001b[0m\u001b[0;34m]\u001b[0m\u001b[0;34m)\u001b[0m\u001b[0;34m,\u001b[0m \u001b[0msize\u001b[0m\u001b[0;34m=\u001b[0m\u001b[0;36m1\u001b[0m\u001b[0;34m,\u001b[0m \u001b[0mp\u001b[0m\u001b[0;34m=\u001b[0m\u001b[0mMDP\u001b[0m\u001b[0;34m[\u001b[0m\u001b[0;34m\"Pa's\"\u001b[0m\u001b[0;34m]\u001b[0m\u001b[0;34m[\u001b[0m\u001b[0mrandom_action\u001b[0m\u001b[0;34m]\u001b[0m\u001b[0;34m[\u001b[0m\u001b[0mtrajectory\u001b[0m\u001b[0;34m[\u001b[0m\u001b[0mi\u001b[0m\u001b[0;34m-\u001b[0m\u001b[0;36m1\u001b[0m\u001b[0;34m]\u001b[0m\u001b[0;34m[\u001b[0m\u001b[0;36m0\u001b[0m\u001b[0;34m]\u001b[0m\u001b[0;34m]\u001b[0m\u001b[0;34m)\u001b[0m\u001b[0;34m\u001b[0m\u001b[0m\n",
      "\u001b[0;31mTypeError\u001b[0m: 'NoneType' object is not subscriptable"
     ]
    }
   ],
   "source": [
    "s0 = 12 # position corresponding to state 30 in X \n",
    "s1 = 7  # position corresponding to state 20 in X\n",
    "        \n",
    "def generateRandomTrajectory(MDP, policy, s0, steps=10000):\n",
    "    trajectory = np.array([(s0, None)])\n",
    "    \n",
    "    for i in range(1, steps):\n",
    "        print (policy[trajectory[i-1][0]])\n",
    "        random_action = np.random.choice(len(MDP['A']), size=1, p=policy[trajectory[i-1][0]])\n",
    "        possible_state = np.random.choice(len(MDP['X']), size=1, p=MDP[\"Pa's\"][random_action][trajectory[i-1][0]])\n",
    "        \n",
    "        trajectory = np.append(trajectory, [(possible_state, random_action)])\n",
    "    return trajectory\n",
    "\n",
    "trajectory =  generateRandomTrajectory(mdp, pi, 12, steps=10)\n",
    "print (trajectory)\n",
    "\n"
   ]
  },
  {
   "cell_type": "code",
   "execution_count": null,
   "metadata": {
    "collapsed": true
   },
   "outputs": [],
   "source": []
  }
 ],
 "metadata": {
  "celltoolbar": "Raw Cell Format",
  "kernelspec": {
   "display_name": "Python 3",
   "language": "python",
   "name": "python3"
  },
  "language_info": {
   "codemirror_mode": {
    "name": "ipython",
    "version": 3
   },
   "file_extension": ".py",
   "mimetype": "text/x-python",
   "name": "python",
   "nbconvert_exporter": "python",
   "pygments_lexer": "ipython3",
   "version": "3.6.0"
  }
 },
 "nbformat": 4,
 "nbformat_minor": 0
}
