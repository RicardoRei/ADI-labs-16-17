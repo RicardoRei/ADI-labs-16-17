{
 "cells": [
  {
   "cell_type": "markdown",
   "metadata": {},
   "source": [
    "# Learning and Decision Making"
   ]
  },
  {
   "cell_type": "markdown",
   "metadata": {},
   "source": [
    "## Laboratory 3: Markov decision problems\n",
    "\n",
    "In the end of the lab, you should submit all code/answers written in the tasks marked as \"Activity n. XXX\", together with the corresponding outputs and any replies to specific questions posed to the e-mail <adi.tecnico@gmail.com>. Make sure that the subject is of the form [&lt;group n.&gt;] LAB &lt;lab n.&gt;.\n",
    "\n",
    "### 1. Modeling\n",
    "\n",
    "Consider once again the predator-prey domain described in the Homework and which you described as a Markov decision process.\n",
    "\n",
    "<img src=\"toroidal-world.png\" width=\"400px\">\n",
    "\n",
    "Recall that:\n",
    "\n",
    "* toroidal world \"wraps around\", i.e., an individual exiting through any of the four sides of the grid reenters on the opposite side (see figure above).\n",
    "\n",
    "* At each time step, the hare selects uniformly at random one of the four directions (up, down, left, and right) and moves to the adjacent cell in that direction with a probability 0.4. With a probability 0.6 it remains in the same cell. \n",
    "\n",
    "* The wolf, on the other hand, can select at each time step one of five actions---up (_U_), down (_D_), left (_L_) and right (_R_) or stay (_S_). If it selects action _S_, it remains in the same cell with probability 1.0. Otherwise, the other 4 actions succeed in moving the wolf to the adjacent cell in the corresponding direction with a probability 0.8 and fail with a probability 0.2. \n",
    "\n",
    "* The goal of the wolf is to catch the hare."
   ]
  },
  {
   "cell_type": "markdown",
   "metadata": {},
   "source": [
    "---\n",
    "\n",
    "#### Activity 1.        \n",
    "\n",
    "Implement your Markov decision process in Python. In particular,\n",
    "\n",
    "* Create a list with all the states;\n",
    "* Create a list with all the actions;\n",
    "* For each action, define a `numpy` array with the corresponding transition probabilities;\n",
    "* Define a `numpy`array with the costs\n",
    "\n",
    "The order for the states and actions used in the transition probability and cost matrices should match that in the lists of states and actions. \n",
    "\n",
    "**Note 1**: Don't forget to import `numpy`.\n",
    "\n",
    "**Note 2**: You can define the transition probability matrices for each of the two individuals and then build the combined transition probability matrices using the `numpy.kron` function.\n",
    "\n",
    "---"
   ]
  },
  {
   "cell_type": "code",
   "execution_count": 8,
   "metadata": {
    "collapsed": false,
    "scrolled": false
   },
   "outputs": [],
   "source": [
    "# Insert your code here\n",
    "import numpy as np\n",
    "from pandas import *\n",
    "\n",
    "X = [[0, 0], [0, 1], [0, 2], [0, 3],\n",
    "     [1, 0], [1, 1], [1, 2], [1, 3], \n",
    "     [2, 0], [2, 1], [2, 2], [2, 3], \n",
    "     [3, 0], [3, 1], [3, 2], [3, 3]]\n",
    "\n",
    "A = ['L', 'R', 'U', 'D', 'S']\n",
    "\n",
    "P_coelho = np.array([[0.6, 0.2, 0.2, 0.0], \n",
    "\t\t\t\t\t [0.2, 0.6, 0.0, 0.2], \n",
    "\t\t\t\t\t [0.2, 0.0, 0.6, 0.2], \n",
    "\t\t\t\t\t [0.0, 0.2, 0.2, 0.6]])\n",
    "\n",
    "P_lobo_rl = np.array([[0.2, 0.8, 0.0, 0.0], \n",
    "\t\t     \t\t  [0.8, 0.2, 0.0, 0.0], \n",
    "\t\t     \t\t  [0.0, 0.0, 0.2, 0.8], \n",
    "\t\t     \t\t  [0.0, 0.2, 0.8, 0.2]])\n",
    " \n",
    "P_lobo_ud = np.array([[0.2, 0.0, 0.8, 0.0], \n",
    "\t\t\t \t\t  [0.0, 0.2, 0.0, 0.8], \n",
    "\t\t     \t\t  [0.8, 0.0, 0.2, 0.0], \n",
    "\t\t     \t\t  [0.0, 0.8, 0.0, 0.2]])\n",
    "\n",
    "P_lobo_s = np.array([[1.0, 0.0, 0.0, 0.0], \n",
    "\t\t\t\t\t [0.0, 1.0, 0.0, 0.0], \n",
    "\t\t    \t\t [0.0, 0.0, 1.0, 0.0], \n",
    "\t\t    \t  \t [0.0, 0.0, 0.0, 1.0]])\n",
    "\n",
    "C = np.array([[1.0,  1.0,  1.0,   1.0,  0.0], #(0,0)\n",
    "\t\t\t  [0.0,  0.0,  1.0,   1.0,  1.0], #(0,1)\n",
    "\t\t\t  [1.0,  1.0,  0.0,   0.0,  1.0], #(0,2)\n",
    "\t\t\t  [1.0,  1.0,  1.0,   1.0,  1.0], #(0,3)\n",
    "\n",
    "\t\t\t  [0.0,  0.0,  1.0,   1.0,  1.0], #(1,0)\n",
    "\t\t\t  [1.0,  1.0,  1.0,   1.0,  0.0], #(1,1)\n",
    "\t\t\t  [1.0,  1.0,  1.0,   1.0,  1.0], #(1,2)\n",
    "\t\t\t  [1.0,  1.0,  0.0,   0.0,  1.0], #(1,3)\n",
    "\n",
    "\t\t\t  [1.0,  1.0,  0.0,   0.0,  1.0], #(2,0)\n",
    "\t\t\t  [1.0,  1.0,  1.0,   1.0,  1.0], #(2,1)\n",
    "\t\t\t  [1.0,  1.0,  1.0,   1.0,  0.0], #(2,2)\n",
    "\t\t\t  [0.0,  0.0,  1.0,   1.0,  1.0], #(2,3)\n",
    "\n",
    "\t\t\t  [1.0,  1.0,  1.0,   1.0,  1.0], #(3,0)\n",
    "\t\t \t  [1.0,  1.0,  0.0,   0.0,  1.0], #(3,1)\n",
    "\t\t\t  [0.0,  0.0,  1.0,   1.0,  1.0], #(3,2)\n",
    "\t\t\t  [1.0,  1.0,  1.0,   1.0,  0.0]])#(3,3)\n",
    "\n",
    "P_RL = np.kron(P_lobo_rl, P_coelho)\n",
    "P_UD = np.kron(P_lobo_ud, P_coelho)\n",
    "P_S = np.kron(P_lobo_s, P_coelho)\n"
   ]
  },
  {
   "cell_type": "markdown",
   "metadata": {},
   "source": [
    "### 2. Prediction\n",
    "\n",
    "You are now going to evaluate a given policy, computing the corresponding cost-to-go."
   ]
  },
  {
   "cell_type": "markdown",
   "metadata": {
    "raw_mimetype": "text/latex"
   },
   "source": [
    "---\n",
    "\n",
    "#### Activity 2.\n",
    "\n",
    "Describe the policy that, in each state $(w, h)$, always moves the wolf to the cell closest to the hare. If multiple such cells exist, the wolf should select randomly between the two.\n",
    "\n",
    "For example, suppose that the wolf is in cell 1 and the hare in cell 4 (figure above, left). The wolf should then select randomly between the actions _U_, _D_ (which move the wolf to cell 3), _L_ and _R_ (which move the wolf to cell 2). Conversely, if the wolf is in cell 1 and the hare in cell 3 (figure above, right), the wolf should select randomly between the two actions _U_ and _D_ (which move the wolf to cell 3).\n",
    "\n",
    "**Note:** The policy should be described as a vector with as many rows as there are states and as many columns as there are actions, where the entry _xa_ has the probability of selecting action _a_ in state _x_.\n",
    "\n",
    "---"
   ]
  },
  {
   "cell_type": "code",
   "execution_count": 2,
   "metadata": {
    "collapsed": false
   },
   "outputs": [],
   "source": [
    "# Insert your code here\n",
    "policy_smart = np.array([0.0,  0.0,  0.0,  0.0,  1.0],\n",
    "\t\t\t\t\t\t[0.5,  0.5,  0.0,  0.0,  0.0],\n",
    "\t\t\t\t\t\t[0.0,  0.0,  0.5,  0.5,  0.0],\n",
    "\t\t\t\t\t\t[0.25, 0.25, 0.25, 0.25, 0.0],\n",
    "\n",
    "\t\t\t\t\t\t[0.5,  0.5,  0.0,  0.0,  0.0],\n",
    "\t\t\t\t\t\t[0.0,  0.0,  0.0,  0.0,  1.0],\n",
    "\t\t\t\t\t\t[0.25, 0.25, 0.25, 0.25, 0.0],\n",
    "\t\t\t\t\t\t[0.0,  0.0,  0.0,  0.0,  0.0],\n",
    "\n",
    "\t\t\t\t\t\t[0.0,  0.0,  0.5,  0.5,  0.0],\n",
    "\t\t\t\t\t\t[0.25, 0.25, 0.25, 0.25, 0.0],\n",
    "\t\t\t\t\t\t[0.0,  0.0,  0.0,  0.0,  1.0],\n",
    "\t\t\t\t\t\t[0.5,  0.5,  0.0,  0.0,  0.0],\n",
    "\n",
    "\t\t\t\t\t\t[0.25, 0.25, 0.25, 0.25, 0.0],\n",
    "\t\t\t\t\t\t[0.0,  0.0,  0.5,  0.5,  0.0],\n",
    "\t\t\t\t\t\t[0.5,  0.5,  0.0,  0.0,  0.0],\n",
    "\t\t\t\t\t\t[0.0,  0.0,  0.0,  0.0,  1.0]);"
   ]
  },
  {
   "cell_type": "markdown",
   "metadata": {},
   "source": [
    "---\n",
    "\n",
    "#### Activity 3.\n",
    "\n",
    "Compute the cost-to-go function $J^\\pi$ associated with the policy from Activity 2. Use $\\gamma=0.99$.\n",
    "\n",
    "---"
   ]
  },
  {
   "cell_type": "code",
   "execution_count": 3,
   "metadata": {
    "collapsed": false
   },
   "outputs": [],
   "source": [
    "# Insert your code here"
   ]
  },
  {
   "cell_type": "markdown",
   "metadata": {},
   "source": [
    "### 3. Control\n",
    "\n",
    "In this section you are going to compare value and policy iteration, both in terms of time and number of iterations."
   ]
  },
  {
   "cell_type": "markdown",
   "metadata": {},
   "source": [
    "---\n",
    "\n",
    "#### Activity 4\n",
    "\n",
    "Show that the policy in Activity 3 is optimal: use value iteration to compute $J^*$ and show that $J^*=J^\\pi$. Track the time and the number of iterations taken to compute $J^*$.\n",
    "\n",
    "**Note 1:** Stop the algorithm when the error between iterations is smaller than $10^{-8}$.\n",
    "\n",
    "**Note 2:** You may find useful the function ``time()`` from the module ``time``.\n",
    "\n",
    "---"
   ]
  },
  {
   "cell_type": "code",
   "execution_count": 4,
   "metadata": {
    "collapsed": false,
    "scrolled": false
   },
   "outputs": [],
   "source": [
    "# Insert your code here"
   ]
  },
  {
   "cell_type": "markdown",
   "metadata": {},
   "source": [
    "---\n",
    "\n",
    "#### Activity 5\n",
    "\n",
    "Compute once again the optimal policy now using policy iteration. Track the time and number of iterations taken and compare to those of Activity 4.\n",
    "\n",
    "**Note:** If you find that numerical errors affect your computations (especially when comparing two values/arrays) you may use the `numpy` function `isclose` with adequately set absolute and relative tolerance parameters (e.g., $10^{-8}$).\n",
    "\n",
    "---"
   ]
  },
  {
   "cell_type": "code",
   "execution_count": 5,
   "metadata": {
    "collapsed": false,
    "scrolled": false
   },
   "outputs": [],
   "source": [
    "# Insert your code here"
   ]
  },
  {
   "cell_type": "markdown",
   "metadata": {},
   "source": [
    "### 4. Simulation\n",
    "\n",
    "Finally, in this section you will check whether the theoretical computations of the cost-to-go actually correspond to the cost incurred by an agent following a policy."
   ]
  },
  {
   "cell_type": "markdown",
   "metadata": {},
   "source": [
    "---\n",
    "\n",
    "#### Activity 6\n",
    "\n",
    "Starting in each of the two states $x$ in the initial figure, \n",
    "\n",
    "* Generate **100** trajectories of 10,000 steps each, following the optimal policy for the MDP. \n",
    "* For each trajectory, compute the accumulated (discounted) cost. \n",
    "* Compute the average cost over the 100 trajectories.\n",
    "* Compare the resulting value with that computed in Activity 4 for the two states. \n",
    "\n",
    "** Note:** The simulation may take a bit of time, don't despair ☺️.\n",
    "\n",
    "---"
   ]
  },
  {
   "cell_type": "code",
   "execution_count": 6,
   "metadata": {
    "collapsed": false
   },
   "outputs": [],
   "source": [
    "# Insert your code here"
   ]
  }
 ],
 "metadata": {
  "celltoolbar": "Raw Cell Format",
  "kernelspec": {
   "display_name": "Python 3",
   "language": "python",
   "name": "python3"
  },
  "language_info": {
   "codemirror_mode": {
    "name": "ipython",
    "version": 3
   },
   "file_extension": ".py",
   "mimetype": "text/x-python",
   "name": "python",
   "nbconvert_exporter": "python",
   "pygments_lexer": "ipython3",
   "version": "3.6.0"
  }
 },
 "nbformat": 4,
 "nbformat_minor": 0
}
